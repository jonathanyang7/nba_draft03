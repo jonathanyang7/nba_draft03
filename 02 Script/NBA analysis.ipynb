{
 "cells": [
  {
   "cell_type": "markdown",
   "metadata": {},
   "source": [
    "Key Q: How good were the top picks of the 2003 draft?"
   ]
  },
  {
   "cell_type": "markdown",
   "metadata": {},
   "source": [
    "# 01. Import and load data"
   ]
  },
  {
   "cell_type": "code",
   "execution_count": 1,
   "metadata": {},
   "outputs": [],
   "source": [
    "import pandas as pd\n",
    "import numpy as np\n",
    "import matplotlib.pyplot as plt"
   ]
  },
  {
   "cell_type": "code",
   "execution_count": 2,
   "metadata": {},
   "outputs": [],
   "source": [
    "draft = pd.read_csv(\"../01 Raw data/nba players draft/nbaplayersdraft.csv\")\n",
    "player_stats = pd.read_csv(\"../01 Raw data/etocco-nba-player-stats/NBA_Player_Stats_2.csv\")"
   ]
  },
  {
   "cell_type": "code",
   "execution_count": 3,
   "metadata": {},
   "outputs": [
    {
     "name": "stdout",
     "output_type": "stream",
     "text": [
      "Draft shape: (1922, 24) | Player shape: (14573, 32)\n",
      "\n",
      "Draft info\n",
      "<class 'pandas.core.frame.DataFrame'>\n",
      "RangeIndex: 1922 entries, 0 to 1921\n",
      "Data columns (total 24 columns):\n",
      " #   Column                     Non-Null Count  Dtype  \n",
      "---  ------                     --------------  -----  \n",
      " 0   id                         1922 non-null   int64  \n",
      " 1   year                       1922 non-null   int64  \n",
      " 2   rank                       1922 non-null   int64  \n",
      " 3   overall_pick               1922 non-null   int64  \n",
      " 4   team                       1922 non-null   object \n",
      " 5   player                     1922 non-null   object \n",
      " 6   college                    1585 non-null   object \n",
      " 7   years_active               1669 non-null   float64\n",
      " 8   games                      1669 non-null   float64\n",
      " 9   minutes_played             1669 non-null   float64\n",
      " 10  points                     1669 non-null   float64\n",
      " 11  total_rebounds             1669 non-null   float64\n",
      " 12  assists                    1669 non-null   float64\n",
      " 13  field_goal_percentage      1665 non-null   float64\n",
      " 14  3_point_percentage         1545 non-null   float64\n",
      " 15  free_throw_percentage      1633 non-null   float64\n",
      " 16  average_minutes_played     1669 non-null   float64\n",
      " 17  points_per_game            1669 non-null   float64\n",
      " 18  average_total_rebounds     1669 non-null   float64\n",
      " 19  average_assists            1669 non-null   float64\n",
      " 20  win_shares                 1669 non-null   float64\n",
      " 21  win_shares_per_48_minutes  1668 non-null   float64\n",
      " 22  box_plus_minus             1668 non-null   float64\n",
      " 23  value_over_replacement     1669 non-null   float64\n",
      "dtypes: float64(17), int64(4), object(3)\n",
      "memory usage: 360.5+ KB\n",
      "None\n",
      "\n",
      " Player stats info\n",
      "<class 'pandas.core.frame.DataFrame'>\n",
      "RangeIndex: 14573 entries, 0 to 14572\n",
      "Data columns (total 32 columns):\n",
      " #   Column  Non-Null Count  Dtype  \n",
      "---  ------  --------------  -----  \n",
      " 0   Rk      14573 non-null  int64  \n",
      " 1   Player  14573 non-null  object \n",
      " 2   Pos     14573 non-null  object \n",
      " 3   Age     14573 non-null  int64  \n",
      " 4   Tm      14573 non-null  object \n",
      " 5   G       14573 non-null  int64  \n",
      " 6   GS      14573 non-null  int64  \n",
      " 7   MP      14573 non-null  float64\n",
      " 8   FG      14573 non-null  float64\n",
      " 9   FGA     14573 non-null  float64\n",
      " 10  FG%     14485 non-null  float64\n",
      " 11  3P      14573 non-null  float64\n",
      " 12  3PA     14573 non-null  float64\n",
      " 13  3P%     12375 non-null  float64\n",
      " 14  2P      14573 non-null  float64\n",
      " 15  2PA     14573 non-null  float64\n",
      " 16  2P%     14419 non-null  float64\n",
      " 17  eFG%    14485 non-null  float64\n",
      " 18  FT      14573 non-null  float64\n",
      " 19  FTA     14573 non-null  float64\n",
      " 20  FT%     13824 non-null  float64\n",
      " 21  ORB     14573 non-null  float64\n",
      " 22  DRB     14573 non-null  float64\n",
      " 23  TRB     14573 non-null  float64\n",
      " 24  AST     14573 non-null  float64\n",
      " 25  STL     14573 non-null  float64\n",
      " 26  BLK     14573 non-null  float64\n",
      " 27  TOV     14573 non-null  float64\n",
      " 28  PF      14573 non-null  float64\n",
      " 29  PTS     14573 non-null  float64\n",
      " 30  Season  14573 non-null  object \n",
      " 31  MVP     14573 non-null  bool   \n",
      "dtypes: bool(1), float64(23), int64(4), object(4)\n",
      "memory usage: 3.5+ MB\n",
      "None\n"
     ]
    }
   ],
   "source": [
    "print(f'''Draft shape: {draft.shape} | Player shape: {player_stats.shape}\\n''')\n",
    "print(\"Draft info\")\n",
    "print(draft.info())\n",
    "print(\"\\n\", \"Player stats info\")\n",
    "print(player_stats.info())"
   ]
  },
  {
   "cell_type": "markdown",
   "metadata": {},
   "source": [
    "# 02. Clean data"
   ]
  },
  {
   "cell_type": "markdown",
   "metadata": {},
   "source": [
    "#### Duplicate values"
   ]
  },
  {
   "cell_type": "code",
   "execution_count": 4,
   "metadata": {},
   "outputs": [
    {
     "data": {
      "text/plain": [
       "'Shape before removal: (1922, 25)\\n    Shape after removal: (1910, 25) '"
      ]
     },
     "execution_count": 4,
     "metadata": {},
     "output_type": "execute_result"
    }
   ],
   "source": [
    "# The merge was increasing row count because of players with the same name.\n",
    "# To deal with this, I identified the 12 players and removed them from the dataset.\n",
    "\n",
    "\n",
    "# Identify the duplicate players\n",
    "draft[\"player_count\"] = draft.groupby(\"player\")[\"player\"].transform(\"count\") \n",
    "players_to_remove = draft[draft[\"player_count\"] != 1]\n",
    "players_to_remove = list(dict.fromkeys(list(players_to_remove[\"player\"])))\n",
    "\n",
    "#Remove duplicate players\n",
    "draft_df = draft[~draft[\"player\"].isin(players_to_remove)]\n",
    "\n",
    "# Checking the players have been removed\n",
    "print\n",
    "(\n",
    "    f'''Shape before removal: {draft.shape}\n",
    "    Shape after removal: {draft_df.shape} '''\n",
    ")"
   ]
  },
  {
   "cell_type": "markdown",
   "metadata": {},
   "source": [
    "#### Cleaning strings and columns"
   ]
  },
  {
   "cell_type": "code",
   "execution_count": 5,
   "metadata": {},
   "outputs": [
    {
     "name": "stderr",
     "output_type": "stream",
     "text": [
      "<ipython-input-5-caf8b73e76ca>:1: SettingWithCopyWarning: \n",
      "A value is trying to be set on a copy of a slice from a DataFrame.\n",
      "Try using .loc[row_indexer,col_indexer] = value instead\n",
      "\n",
      "See the caveats in the documentation: https://pandas.pydata.org/pandas-docs/stable/user_guide/indexing.html#returning-a-view-versus-a-copy\n",
      "  draft_df[\"player\"] = draft_df[\"player\"].str.replace(\"*\",\"\")\n",
      "<ipython-input-5-caf8b73e76ca>:2: SettingWithCopyWarning: \n",
      "A value is trying to be set on a copy of a slice from a DataFrame.\n",
      "Try using .loc[row_indexer,col_indexer] = value instead\n",
      "\n",
      "See the caveats in the documentation: https://pandas.pydata.org/pandas-docs/stable/user_guide/indexing.html#returning-a-view-versus-a-copy\n",
      "  draft_df[\"draft_size\"] = draft_df.groupby(\"year\")[\"player\"].transform(\"count\") # Add a draft size column\n"
     ]
    }
   ],
   "source": [
    "draft_df[\"player\"] = draft_df[\"player\"].str.replace(\"*\",\"\")\n",
    "draft_df[\"draft_size\"] = draft_df.groupby(\"year\")[\"player\"].transform(\"count\") # Add a draft size column\n",
    "draft_df = draft_df[[\"year\",\"overall_pick\",\"player\",\"draft_size\"]]\n",
    "draft_df.rename({\"year\":\"Draft Year\", \"overall_pick\":\"draft_pick\", \"player\":\"Player\"}, axis = 1, inplace = True)\n",
    "\n",
    "mvp = list(player_stats.loc[player_stats[\"MVP\"] == True,\"Player\"]) # Extract a list of MVPs\n",
    "\n",
    "player_stats = player_stats[[\"Player\", \"Pos\", \"Tm\", \"PTS\", \"TRB\", \"AST\", \"STL\", \"BLK\", \"FGA\", \"FG\", \"FTA\", \"FT\", \"TOV\", \"G\", \"Season\"]]\n",
    "player_stats[\"Player\"] = player_stats[\"Player\"].str.replace(\"*\",\"\")"
   ]
  },
  {
   "cell_type": "markdown",
   "metadata": {},
   "source": [
    "#### Data types and Null values"
   ]
  },
  {
   "cell_type": "code",
   "execution_count": 6,
   "metadata": {},
   "outputs": [],
   "source": [
    "draft_df.dropna(inplace=True)\n",
    "player_stats.dropna(inplace=True)\n",
    "\n",
    "player_stats[\"Season\"] = pd.to_numeric(player_stats[\"Season\"].str[:4]) + 1"
   ]
  },
  {
   "cell_type": "markdown",
   "metadata": {},
   "source": [
    "# 03. Merge data"
   ]
  },
  {
   "cell_type": "code",
   "execution_count": 7,
   "metadata": {},
   "outputs": [
    {
     "data": {
      "text/html": [
       "<div>\n",
       "<style scoped>\n",
       "    .dataframe tbody tr th:only-of-type {\n",
       "        vertical-align: middle;\n",
       "    }\n",
       "\n",
       "    .dataframe tbody tr th {\n",
       "        vertical-align: top;\n",
       "    }\n",
       "\n",
       "    .dataframe thead th {\n",
       "        text-align: right;\n",
       "    }\n",
       "</style>\n",
       "<table border=\"1\" class=\"dataframe\">\n",
       "  <thead>\n",
       "    <tr style=\"text-align: right;\">\n",
       "      <th></th>\n",
       "      <th>Player</th>\n",
       "      <th>Pos</th>\n",
       "      <th>Tm</th>\n",
       "      <th>PTS</th>\n",
       "      <th>TRB</th>\n",
       "      <th>AST</th>\n",
       "      <th>STL</th>\n",
       "      <th>BLK</th>\n",
       "      <th>FGA</th>\n",
       "      <th>FG</th>\n",
       "      <th>FTA</th>\n",
       "      <th>FT</th>\n",
       "      <th>TOV</th>\n",
       "      <th>G</th>\n",
       "      <th>Season</th>\n",
       "      <th>Draft Year</th>\n",
       "      <th>draft_pick</th>\n",
       "      <th>draft_size</th>\n",
       "    </tr>\n",
       "  </thead>\n",
       "  <tbody>\n",
       "    <tr>\n",
       "      <th>0</th>\n",
       "      <td>Mahmoud Abdul-Rauf</td>\n",
       "      <td>PG</td>\n",
       "      <td>SAC</td>\n",
       "      <td>7.3</td>\n",
       "      <td>1.2</td>\n",
       "      <td>1.9</td>\n",
       "      <td>0.5</td>\n",
       "      <td>0.0</td>\n",
       "      <td>8.8</td>\n",
       "      <td>3.3</td>\n",
       "      <td>0.5</td>\n",
       "      <td>0.5</td>\n",
       "      <td>0.6</td>\n",
       "      <td>31</td>\n",
       "      <td>1998</td>\n",
       "      <td>1990.0</td>\n",
       "      <td>3.0</td>\n",
       "      <td>53.0</td>\n",
       "    </tr>\n",
       "    <tr>\n",
       "      <th>1</th>\n",
       "      <td>Tariq Abdul-Wahad</td>\n",
       "      <td>SG</td>\n",
       "      <td>SAC</td>\n",
       "      <td>6.4</td>\n",
       "      <td>2.0</td>\n",
       "      <td>0.9</td>\n",
       "      <td>0.6</td>\n",
       "      <td>0.2</td>\n",
       "      <td>6.1</td>\n",
       "      <td>2.4</td>\n",
       "      <td>2.1</td>\n",
       "      <td>1.4</td>\n",
       "      <td>1.1</td>\n",
       "      <td>59</td>\n",
       "      <td>1998</td>\n",
       "      <td>1997.0</td>\n",
       "      <td>11.0</td>\n",
       "      <td>57.0</td>\n",
       "    </tr>\n",
       "    <tr>\n",
       "      <th>2</th>\n",
       "      <td>Shareef Abdur-Rahim</td>\n",
       "      <td>SF</td>\n",
       "      <td>VAN</td>\n",
       "      <td>22.3</td>\n",
       "      <td>7.1</td>\n",
       "      <td>2.6</td>\n",
       "      <td>1.1</td>\n",
       "      <td>0.9</td>\n",
       "      <td>16.4</td>\n",
       "      <td>8.0</td>\n",
       "      <td>7.8</td>\n",
       "      <td>6.1</td>\n",
       "      <td>3.1</td>\n",
       "      <td>82</td>\n",
       "      <td>1998</td>\n",
       "      <td>1996.0</td>\n",
       "      <td>3.0</td>\n",
       "      <td>58.0</td>\n",
       "    </tr>\n",
       "    <tr>\n",
       "      <th>3</th>\n",
       "      <td>Cory Alexander</td>\n",
       "      <td>PG</td>\n",
       "      <td>TOT</td>\n",
       "      <td>8.1</td>\n",
       "      <td>2.4</td>\n",
       "      <td>3.5</td>\n",
       "      <td>1.2</td>\n",
       "      <td>0.2</td>\n",
       "      <td>6.7</td>\n",
       "      <td>2.9</td>\n",
       "      <td>1.7</td>\n",
       "      <td>1.3</td>\n",
       "      <td>1.9</td>\n",
       "      <td>60</td>\n",
       "      <td>1998</td>\n",
       "      <td>1995.0</td>\n",
       "      <td>29.0</td>\n",
       "      <td>58.0</td>\n",
       "    </tr>\n",
       "    <tr>\n",
       "      <th>4</th>\n",
       "      <td>Cory Alexander</td>\n",
       "      <td>PG</td>\n",
       "      <td>SAS</td>\n",
       "      <td>4.5</td>\n",
       "      <td>1.3</td>\n",
       "      <td>1.9</td>\n",
       "      <td>0.7</td>\n",
       "      <td>0.1</td>\n",
       "      <td>3.9</td>\n",
       "      <td>1.6</td>\n",
       "      <td>1.0</td>\n",
       "      <td>0.7</td>\n",
       "      <td>1.3</td>\n",
       "      <td>37</td>\n",
       "      <td>1998</td>\n",
       "      <td>1995.0</td>\n",
       "      <td>29.0</td>\n",
       "      <td>58.0</td>\n",
       "    </tr>\n",
       "  </tbody>\n",
       "</table>\n",
       "</div>"
      ],
      "text/plain": [
       "                Player Pos   Tm   PTS  TRB  AST  STL  BLK   FGA   FG  FTA  \\\n",
       "0   Mahmoud Abdul-Rauf  PG  SAC   7.3  1.2  1.9  0.5  0.0   8.8  3.3  0.5   \n",
       "1    Tariq Abdul-Wahad  SG  SAC   6.4  2.0  0.9  0.6  0.2   6.1  2.4  2.1   \n",
       "2  Shareef Abdur-Rahim  SF  VAN  22.3  7.1  2.6  1.1  0.9  16.4  8.0  7.8   \n",
       "3       Cory Alexander  PG  TOT   8.1  2.4  3.5  1.2  0.2   6.7  2.9  1.7   \n",
       "4       Cory Alexander  PG  SAS   4.5  1.3  1.9  0.7  0.1   3.9  1.6  1.0   \n",
       "\n",
       "    FT  TOV   G  Season  Draft Year  draft_pick  draft_size  \n",
       "0  0.5  0.6  31    1998      1990.0         3.0        53.0  \n",
       "1  1.4  1.1  59    1998      1997.0        11.0        57.0  \n",
       "2  6.1  3.1  82    1998      1996.0         3.0        58.0  \n",
       "3  1.3  1.9  60    1998      1995.0        29.0        58.0  \n",
       "4  0.7  1.3  37    1998      1995.0        29.0        58.0  "
      ]
     },
     "execution_count": 7,
     "metadata": {},
     "output_type": "execute_result"
    }
   ],
   "source": [
    "df = pd.merge(left = player_stats, right = draft_df, how = \"left\", on = \"Player\", validate = \"m:1\")\n",
    "\n",
    "print\n",
    "(\n",
    "    f'''merged shape: {df.shape}\n",
    "    left player data shape: {player_stats.shape}\n",
    "    draft shape: {draft.shape}'''\n",
    ")\n",
    "df.head()"
   ]
  },
  {
   "cell_type": "markdown",
   "metadata": {},
   "source": [
    "# 04. Data Analysis"
   ]
  },
  {
   "cell_type": "code",
   "execution_count": 8,
   "metadata": {},
   "outputs": [],
   "source": [
    "# Calculate the efficiency of players\n",
    "df[\"Missed FG\"] = df.apply(lambda player: player[\"FGA\"] - player[\"FG\"], axis=1)\n",
    "df[\"Missed FT\"] = df.apply(lambda player: player[\"FTA\"] - player[\"FT\"], axis=1)\n",
    "df[\"Efficiency\"] = df.apply(lambda player: (\n",
    "    (player[\"PTS\"] + player[\"TRB\"] + player[\"AST\"] + player[\"STL\"] + player[\"BLK\"]) - \n",
    "    (player[\"Missed FG\"] + player[\"Missed FT\"] + player[\"TOV\"])) / player[\"G\"], axis=1)\n",
    "\n",
    "# Efficiency measure is only suitable for players that played more than 70% of the team's games in that season\n",
    "df[\"max_games\"] = df.groupby([\"Season\",\"Tm\"])[\"G\"].transform(\"max\")\n",
    "df.loc[df[\"G\"] < (0.7 * df[\"max_games\"]), \"Efficiency\"] = np.nan "
   ]
  },
  {
   "cell_type": "code",
   "execution_count": 11,
   "metadata": {},
   "outputs": [],
   "source": [
    "# Drop irrelevant columns\n",
    "df = df[[\"Player\",\"Pos\", \"Tm\", \"Season\", \"draft_pick\", \"draft_size\",\"Draft Year\", \"Efficiency\"]]"
   ]
  },
  {
   "cell_type": "markdown",
   "metadata": {},
   "source": [
    "#### Top 3 picks in the 2003 draft pick"
   ]
  },
  {
   "cell_type": "code",
   "execution_count": 14,
   "metadata": {},
   "outputs": [
    {
     "data": {
      "text/plain": [
       "['Carmelo Anthony', 'LeBron James', 'Darko Miličić']"
      ]
     },
     "execution_count": 14,
     "metadata": {},
     "output_type": "execute_result"
    }
   ],
   "source": [
    "top_3_2003 = list(df.loc[(df[\"Draft Year\"] == 2003) & (df[\"draft_pick\"].isin([1,2,3])),\"Player\"].values)\n",
    "top_3_2003 = list(dict.fromkeys(top_3_2003))\n",
    "top_3_2003"
   ]
  },
  {
   "cell_type": "markdown",
   "metadata": {},
   "source": [
    "# Data visualisation"
   ]
  },
  {
   "cell_type": "code",
   "execution_count": 21,
   "metadata": {},
   "outputs": [],
   "source": [
    "import matplotlib.pyplot as plt\n",
    "import matplotlib.ticker as ticker\n",
    "\n",
    "formatter = ticker.FormatStrFormatter('%.0f')  # Zero decimal places\n"
   ]
  },
  {
   "cell_type": "code",
   "execution_count": 39,
   "metadata": {},
   "outputs": [
    {
     "data": {
      "image/png": "[encoded data removed]",
      "text/plain": [
       "<Figure size 720x360 with 1 Axes>"
      ]
     },
     "metadata": {
      "needs_background": "light"
     },
     "output_type": "display_data"
    },
    {
     "data": {
      "image/png": "[encoded data removed]",
      "text/plain": [
       "<Figure size 720x360 with 1 Axes>"
      ]
     },
     "metadata": {
      "needs_background": "light"
     },
     "output_type": "display_data"
    },
    {
     "data": {
      "image/png": "[encoded data removed]",
      "text/plain": [
       "<Figure size 720x360 with 1 Axes>"
      ]
     },
     "metadata": {
      "needs_background": "light"
     },
     "output_type": "display_data"
    }
   ],
   "source": [
    "league_avg = df.groupby([\"Pos\",\"Season\"])[\"Efficiency\"].mean().reset_index(name=\"Avg League Eff\")\n",
    "\n",
    "for player in top_3_2003:\n",
    "    # Find the player's most commonly played position\n",
    "    all_positions = dict(df.loc[df[\"Player\"] == player, \"Pos\"].value_counts())\n",
    "    position = max(all_positions, key=all_positions.get)\n",
    "    \n",
    "    # Create a table with the player's efficiency and avg. league efficiency for each season\n",
    "    player_data = df.loc[df[\"Player\"] == str(player),[\"Player\",\"Season\",\"Efficiency\"]]\n",
    "    avg_for_pos = league_avg.loc[league_avg[\"Pos\"] == position]\n",
    "    plot_data = pd.merge(player_data, avg_for_pos, how=\"left\", on=[\"Season\"])\n",
    "    \n",
    "    # Plot both lines\n",
    "    plt.figure(figsize=(10,5))\n",
    "    plt.plot(plot_data[\"Season\"], plot_data[\"Efficiency\"], label=str(player), color=\"red\", marker=\"o\")\n",
    "    plt.plot(plot_data[\"Season\"], plot_data[\"Avg League Eff\"], label=f\"League avg for {position}\", color=\"blue\", marker=\"s\")\n",
    "    \n",
    "    \n",
    "    # Add labels and title\n",
    "    plt.xlabel(\"Season\")\n",
    "    plt.ylabel(\"Efficiency (%)\")\n",
    "    plt.gca().xaxis.set_major_formatter(formatter)\n",
    "    \n",
    "    draft_position = int(df.loc[df[\"Player\"] == player , \"draft_pick\"].min())\n",
    "    plt.title(f\"Average efficiency for the no.{draft_position} pick of the 2003 class, {player}, \\nversus the rest of the league\")\n",
    "    plt.legend()\n",
    "    plt.show()"
   ]
  }
 ],
 "metadata": {
  "kernelspec": {
   "display_name": "Python 3",
   "language": "python",
   "name": "python3"
  },
  "language_info": {
   "codemirror_mode": {
    "name": "ipython",
    "version": 3
   },
   "file_extension": ".py",
   "mimetype": "text/x-python",
   "name": "python",
   "nbconvert_exporter": "python",
   "pygments_lexer": "ipython3",
   "version": "3.8.3"
  }
 },
 "nbformat": 4,
 "nbformat_minor": 4
}
